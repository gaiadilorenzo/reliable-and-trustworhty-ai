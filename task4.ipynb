{
 "cells": [
  {
   "cell_type": "code",
   "execution_count": 1,
   "metadata": {},
   "outputs": [],
   "source": [
    "import torch\n",
    "import torch.nn as nn\n",
    "import torch.nn.functional as F\n",
    "import numpy as np\n",
    "\n",
    "from torchvision import datasets, transforms\n",
    "from model import Net, ConvNet\n",
    "use_cuda = False\n",
    "device = torch.device(\"cuda\" if use_cuda else \"cpu\")\n",
    "batch_size = 64\n",
    "\n",
    "import matplotlib.pyplot as plt"
   ]
  },
  {
   "cell_type": "code",
   "execution_count": 2,
   "metadata": {},
   "outputs": [
    {
     "data": {
      "text/plain": [
       "<torch._C.Generator at 0x112140730>"
      ]
     },
     "execution_count": 2,
     "metadata": {},
     "output_type": "execute_result"
    }
   ],
   "source": [
    "# hard-code random seeds for deterministic outcomes\n",
    "np.random.seed(42)\n",
    "torch.manual_seed(42)"
   ]
  },
  {
   "cell_type": "code",
   "execution_count": 3,
   "metadata": {},
   "outputs": [],
   "source": [
    "# loading the dataset\n",
    "# note that this time we do not perfrom the normalization operation, see next cell\n",
    "test_dataset = datasets.MNIST(\n",
    "    'mnist_data/', \n",
    "    train=False, \n",
    "    download=True, \n",
    "    transform=transforms.Compose(\n",
    "        [transforms.ToTensor()]\n",
    "    )\n",
    ")"
   ]
  },
  {
   "cell_type": "code",
   "execution_count": 4,
   "metadata": {},
   "outputs": [
    {
     "name": "stderr",
     "output_type": "stream",
     "text": [
      "/Users/gaiadilorenzo/.pyenv/versions/3.10.6/lib/python3.10/site-packages/torch/serialization.py:786: SourceChangeWarning: source code of class 'torch.nn.modules.conv.Conv2d' has changed. you can retrieve the original source code by accessing the object's source attribute or set `torch.nn.Module.dump_patches = True` and use the patch tool to revert the changes.\n",
      "  warnings.warn(msg, SourceChangeWarning)\n",
      "/Users/gaiadilorenzo/.pyenv/versions/3.10.6/lib/python3.10/site-packages/torch/serialization.py:786: SourceChangeWarning: source code of class 'torch.nn.modules.batchnorm.BatchNorm2d' has changed. you can retrieve the original source code by accessing the object's source attribute or set `torch.nn.Module.dump_patches = True` and use the patch tool to revert the changes.\n",
      "  warnings.warn(msg, SourceChangeWarning)\n",
      "/Users/gaiadilorenzo/.pyenv/versions/3.10.6/lib/python3.10/site-packages/torch/serialization.py:786: SourceChangeWarning: source code of class 'torch.nn.modules.dropout.Dropout2d' has changed. you can retrieve the original source code by accessing the object's source attribute or set `torch.nn.Module.dump_patches = True` and use the patch tool to revert the changes.\n",
      "  warnings.warn(msg, SourceChangeWarning)\n",
      "/Users/gaiadilorenzo/.pyenv/versions/3.10.6/lib/python3.10/site-packages/torch/serialization.py:786: SourceChangeWarning: source code of class 'torch.nn.modules.linear.Linear' has changed. you can retrieve the original source code by accessing the object's source attribute or set `torch.nn.Module.dump_patches = True` and use the patch tool to revert the changes.\n",
      "  warnings.warn(msg, SourceChangeWarning)\n"
     ]
    },
    {
     "data": {
      "text/plain": [
       "Sequential(\n",
       "  (0): Sequential(\n",
       "    (0): Normalize()\n",
       "    (1): ConvNet(\n",
       "      (conv1): Conv2d(1, 32, kernel_size=(5, 5), stride=(1, 1))\n",
       "      (bn1): BatchNorm2d(32, eps=1e-05, momentum=0.1, affine=True, track_running_stats=True)\n",
       "      (conv2): Conv2d(32, 32, kernel_size=(5, 5), stride=(1, 1))\n",
       "      (bn2): BatchNorm2d(32, eps=1e-05, momentum=0.1, affine=True, track_running_stats=True)\n",
       "      (conv2_drop): Dropout2d(p=0.2, inplace=False)\n",
       "      (fc1): Linear(in_features=128, out_features=100, bias=True)\n",
       "      (fc2): Linear(in_features=100, out_features=10, bias=True)\n",
       "      (conv3): Conv2d(32, 64, kernel_size=(3, 3), stride=(1, 1))\n",
       "      (bn3): BatchNorm2d(64, eps=1e-05, momentum=0.1, affine=True, track_running_stats=True)\n",
       "      (conv4): Conv2d(64, 64, kernel_size=(3, 3), stride=(1, 1))\n",
       "      (bn4): BatchNorm2d(64, eps=1e-05, momentum=0.1, affine=True, track_running_stats=True)\n",
       "      (conv5): Conv2d(64, 128, kernel_size=(3, 3), stride=(1, 1))\n",
       "      (bn5): BatchNorm2d(128, eps=1e-05, momentum=0.1, affine=True, track_running_stats=True)\n",
       "      (conv6): Conv2d(128, 128, kernel_size=(1, 1), stride=(1, 1))\n",
       "      (bn6): BatchNorm2d(128, eps=1e-05, momentum=0.1, affine=True, track_running_stats=True)\n",
       "    )\n",
       "  )\n",
       "  (1): Softmax(dim=None)\n",
       ")"
      ]
     },
     "execution_count": 4,
     "metadata": {},
     "output_type": "execute_result"
    }
   ],
   "source": [
    "class Normalize(nn.Module):\n",
    "    def forward(self, x):\n",
    "        return (x - 0.1307)/0.3081\n",
    "\n",
    "# we load the body of the pre-trained neural net...\n",
    "model = torch.load('model.net', map_location='cpu') \n",
    "\n",
    "# ... and add the data normalization as a first \"layer\" to the network\n",
    "# this allows us to search for adverserial examples to the real image, rather than\n",
    "# to the normalized image\n",
    "model = nn.Sequential(Normalize(), model)\n",
    "\n",
    "# and here we also create a version of the model that outputs the class probabilities\n",
    "model_to_prob = nn.Sequential(model, nn.Softmax())\n",
    "\n",
    "# we put the neural net into evaluation mode (this disables features like dropout)\n",
    "model.eval()\n",
    "model_to_prob.eval()"
   ]
  },
  {
   "cell_type": "code",
   "execution_count": 5,
   "metadata": {},
   "outputs": [],
   "source": [
    "def show(original, adv, model_to_prob):\n",
    "    p0 = model_to_prob(original).detach().numpy()\n",
    "    p1 = model_to_prob(adv).detach().numpy()\n",
    "    f, axarr = plt.subplots(1,2)\n",
    "    axarr[0].imshow(original.detach().numpy().reshape(28, 28), cmap='gray')\n",
    "    axarr[0].set_title(\"Original, class: \" + str(p0.argmax()))\n",
    "    axarr[1].imshow(adv.detach().numpy().reshape(28, 28), cmap='gray')\n",
    "    axarr[1].set_title(\"Adversarial, class: \" + str(p1.argmax()))\n",
    "    print(\"Class\\t\\tOrig\\tAdv\")\n",
    "    for i in range(10):\n",
    "        print(\"Class {}:\\t{:.2f}\\t{:.2f}\".format(i, float(p0[:, i]), float(p1[:, i])))\n",
    "    plt.show()"
   ]
  },
  {
   "cell_type": "code",
   "execution_count": 6,
   "metadata": {},
   "outputs": [],
   "source": [
    "# x: input image\n",
    "# label: current label of x\n",
    "# eps: size of l-infinity ball\n",
    "def fgsm_untargeted(model, x, label, eps, **kwargs):\n",
    "    adv_x = x.clone().detach()\n",
    "    with torch.enable_grad():\n",
    "        adv_x.requires_grad = True\n",
    "        output = model_to_prob(adv_x)\n",
    "        loss = nn.functional.cross_entropy(output, target=torch.tensor(label).unsqueeze(dim=0))\n",
    "        loss.backward()\n",
    "    x_prime = x + eps * torch.sign(adv_x.grad)\n",
    "    return torch.clip(x_prime, min=kwargs[\"clip_min\"], max=kwargs[\"clip_max\"])\n"
   ]
  },
  {
   "cell_type": "code",
   "execution_count": 9,
   "metadata": {},
   "outputs": [],
   "source": [
    "# x: input image\n",
    "# label: current label of x\n",
    "# k: number of FGSM iterations\n",
    "# eps: size of l-infinity ball\n",
    "# eps_step: step size of FGSM iterations\n",
    "def pgd(model, x, label, k, eps, eps_step, targeted, clip_min, clip_max):\n",
    "    # TODO: \n",
    "    x_adv = x.clone().detach()\n",
    "    for i in range(k):\n",
    "        x_adv = fgsm_untargeted(model, x_adv, label, eps, clip_min=clip_min, clip_max=clip_max)\n",
    "    return x_adv\n"
   ]
  },
  {
   "cell_type": "code",
   "execution_count": 10,
   "metadata": {},
   "outputs": [
    {
     "name": "stderr",
     "output_type": "stream",
     "text": [
      "/Users/gaiadilorenzo/.pyenv/versions/3.10.6/lib/python3.10/site-packages/torch/nn/modules/container.py:139: UserWarning: Implicit dimension choice for softmax has been deprecated. Change the call to include dim=X as an argument.\n",
      "  input = module(input)\n"
     ]
    },
    {
     "name": "stdout",
     "output_type": "stream",
     "text": [
      "tensor([[[[0.3000, 0.1500, 0.1500, 0.4500, 0.6000, 0.6000, 0.6000, 0.0000,\n",
      "           0.6000, 0.3000, 0.8500, 0.3000, 0.0000, 0.9000, 0.0000, 1.0000,\n",
      "           0.3000, 0.1500, 0.1500, 0.3000, 0.0000, 0.0000, 0.3000, 0.3000,\n",
      "           0.3000, 1.0000, 0.7500, 0.0000],\n",
      "          [0.0000, 0.3000, 0.6000, 0.9000, 0.4500, 0.6000, 0.3000, 0.3000,\n",
      "           0.3000, 0.6000, 0.9000, 0.0000, 0.3000, 0.1500, 0.7500, 1.0000,\n",
      "           0.6000, 0.0000, 0.3000, 0.1500, 0.1500, 0.0000, 0.0000, 0.3000,\n",
      "           0.1500, 0.6000, 0.6000, 0.1500],\n",
      "          [0.3000, 0.3000, 0.1500, 0.0000, 0.3000, 0.3000, 0.1500, 0.7500,\n",
      "           0.9000, 0.7500, 0.6000, 0.3000, 0.3000, 0.4500, 0.3000, 0.3000,\n",
      "           0.3000, 0.0000, 0.7500, 0.1500, 0.0000, 0.0000, 0.0000, 0.1500,\n",
      "           0.7500, 0.3000, 0.7500, 0.1500],\n",
      "          [0.0000, 0.4500, 0.7500, 0.0000, 0.0000, 0.3000, 0.0000, 0.0000,\n",
      "           0.6000, 0.4500, 0.6000, 0.7500, 0.1500, 0.3000, 0.7500, 0.7500,\n",
      "           0.0000, 0.0000, 0.1500, 0.0000, 0.1500, 0.8500, 0.4500, 0.6000,\n",
      "           0.4500, 0.1500, 1.0000, 0.3000],\n",
      "          [0.9000, 0.0000, 0.1500, 0.0000, 0.0000, 0.0000, 0.3000, 0.0000,\n",
      "           0.3000, 0.4500, 0.6000, 0.3000, 1.0000, 0.0000, 0.0000, 0.3000,\n",
      "           0.4500, 0.6000, 0.6000, 0.0000, 0.1500, 0.7500, 0.7500, 0.3000,\n",
      "           1.0000, 1.0000, 0.9000, 1.0000],\n",
      "          [0.0000, 0.0000, 0.1500, 0.6000, 0.0000, 0.6000, 0.6000, 0.4500,\n",
      "           0.0000, 0.1500, 0.3000, 0.6000, 0.6000, 0.3000, 0.0000, 0.3000,\n",
      "           0.7500, 0.0000, 0.1500, 0.3000, 0.0000, 0.0000, 0.0000, 0.8500,\n",
      "           0.6000, 0.9000, 0.6000, 0.9000],\n",
      "          [0.4500, 0.3000, 0.6000, 0.3000, 0.6000, 0.1500, 0.3000, 0.4500,\n",
      "           0.1500, 0.0000, 0.0000, 0.0000, 1.0000, 0.3000, 0.6000, 0.3000,\n",
      "           0.3000, 0.3000, 0.0000, 0.0000, 0.0000, 0.0000, 0.0000, 0.0000,\n",
      "           0.7500, 0.6000, 0.0000, 0.3000],\n",
      "          [0.3000, 0.4500, 0.4500, 0.1500, 0.4500, 0.4500, 0.1500, 0.4255,\n",
      "           0.6235, 0.8500, 0.5353, 0.0000, 0.0000, 0.3000, 0.0000, 0.1500,\n",
      "           0.0000, 0.9000, 0.6000, 0.3000, 0.6000, 0.0000, 0.0000, 0.0000,\n",
      "           0.0000, 0.0000, 0.1500, 0.0000],\n",
      "          [0.4500, 0.0000, 0.6000, 0.4500, 0.0000, 0.1500, 0.5706, 0.7000,\n",
      "           0.7000, 1.0000, 1.0000, 0.2500, 0.4765, 0.7000, 1.0000, 1.0000,\n",
      "           0.1765, 0.7000, 1.0000, 1.0000, 1.0000, 0.0000, 0.0000, 0.1500,\n",
      "           0.1500, 0.0000, 0.4500, 0.0000],\n",
      "          [0.6000, 0.1500, 0.6000, 0.3000, 0.1500, 0.1500, 0.0000, 0.4471,\n",
      "           1.0000, 0.4471, 0.8500, 0.5500, 0.5500, 0.8500, 0.8500, 0.6961,\n",
      "           0.6961, 0.0000, 0.5980, 0.6961, 1.0000, 1.0000, 0.0000, 0.0000,\n",
      "           1.0000, 0.0000, 0.6000, 0.1500],\n",
      "          [0.1500, 0.7500, 0.3000, 0.1500, 0.0000, 0.0000, 0.1500, 0.1500,\n",
      "           0.0000, 0.4500, 0.6000, 0.1500, 0.8588, 0.3000, 0.0000, 0.1500,\n",
      "           0.0000, 0.1500, 0.1500, 0.9255, 1.0000, 0.8500, 0.3000, 0.0000,\n",
      "           0.0000, 0.6000, 0.3000, 0.4500],\n",
      "          [0.0000, 0.3000, 0.1500, 0.0000, 0.6000, 0.0000, 0.0000, 0.0000,\n",
      "           0.0000, 0.0000, 0.0000, 0.0000, 0.0000, 0.0000, 0.0000, 0.0000,\n",
      "           0.6000, 0.0000, 0.1500, 0.8500, 1.0000, 0.1500, 0.7500, 0.0000,\n",
      "           0.7500, 0.0000, 0.9000, 0.3000],\n",
      "          [0.6000, 0.6000, 0.3000, 0.6000, 0.3000, 0.3000, 0.0000, 0.3000,\n",
      "           0.0000, 0.0000, 0.0000, 0.1500, 0.0000, 0.3000, 0.3000, 0.3000,\n",
      "           0.0000, 0.1500, 0.8500, 0.8500, 0.6255, 0.0000, 1.0000, 0.1500,\n",
      "           1.0000, 0.0000, 0.1500, 1.0000],\n",
      "          [0.3000, 0.3000, 0.0000, 0.3000, 0.3000, 0.3000, 0.0000, 0.3000,\n",
      "           0.0000, 0.3000, 0.1500, 0.0000, 0.1500, 0.0000, 0.3000, 0.3000,\n",
      "           0.3000, 1.0000, 1.0000, 1.0000, 0.1725, 0.7500, 0.7500, 0.0000,\n",
      "           0.1500, 0.8500, 0.6000, 1.0000],\n",
      "          [0.3000, 0.1500, 0.9000, 0.3000, 0.1500, 0.6000, 0.1500, 0.1500,\n",
      "           0.1500, 0.1500, 0.1500, 0.1500, 0.3000, 0.9000, 0.9000, 1.0000,\n",
      "           0.5314, 1.0000, 0.3961, 0.1500, 0.1500, 0.6000, 0.6000, 0.1500,\n",
      "           0.3000, 0.9000, 0.0000, 0.1500],\n",
      "          [0.6000, 0.0000, 0.0000, 0.9000, 0.3000, 0.6000, 0.1500, 0.1500,\n",
      "           0.1500, 0.0000, 0.4500, 0.1500, 0.3000, 0.9000, 0.8500, 0.7500,\n",
      "           0.5216, 0.3961, 0.1500, 0.1500, 0.6000, 0.1500, 0.3000, 0.8500,\n",
      "           0.0000, 0.1500, 0.3000, 0.1500],\n",
      "          [0.3000, 0.8500, 0.3000, 0.6000, 0.7500, 0.3000, 0.8500, 0.0000,\n",
      "           0.1500, 0.1500, 0.1500, 0.1500, 0.0000, 0.0000, 0.7500, 0.0000,\n",
      "           0.2039, 0.5500, 0.5275, 0.0000, 0.3000, 0.1500, 0.1500, 0.6000,\n",
      "           0.1500, 0.1500, 0.1500, 0.1500],\n",
      "          [0.1500, 0.1500, 0.4500, 0.3000, 0.1500, 0.3000, 0.7500, 0.4500,\n",
      "           0.1500, 0.0000, 0.1500, 0.1500, 0.1500, 0.0000, 0.1500, 0.8500,\n",
      "           0.6961, 0.1500, 0.3000, 0.6000, 0.1500, 0.3000, 0.1500, 0.0000,\n",
      "           0.3000, 0.7500, 0.6000, 0.0000],\n",
      "          [0.4500, 0.3000, 0.6000, 1.0000, 0.0000, 0.6000, 0.6000, 0.9000,\n",
      "           0.1500, 0.1500, 0.4500, 0.1500, 0.0000, 0.0000, 0.1500, 0.5500,\n",
      "           0.4000, 0.2235, 0.1500, 0.1500, 0.1500, 0.1500, 0.1500, 0.0000,\n",
      "           0.0000, 0.3000, 0.6000, 0.3000],\n",
      "          [0.3000, 0.3000, 0.0000, 0.6000, 0.0000, 0.9000, 0.1500, 0.9000,\n",
      "           0.6000, 0.0000, 0.3000, 0.0000, 0.0000, 0.1500, 0.1500, 1.0000,\n",
      "           0.5500, 0.3000, 0.6000, 0.0000, 1.0000, 0.3000, 0.1500, 0.1500,\n",
      "           0.6000, 0.1500, 0.0000, 0.1500],\n",
      "          [0.1500, 0.9000, 0.1500, 0.0000, 0.3000, 0.4500, 0.0000, 0.0000,\n",
      "           0.6000, 0.0000, 0.3000, 0.4500, 0.4500, 0.4961, 0.4000, 0.8588,\n",
      "           0.0000, 0.1500, 0.0000, 0.1500, 0.0000, 0.3000, 0.6000, 0.1500,\n",
      "           0.0000, 0.1500, 0.6000, 0.4500],\n",
      "          [0.0000, 0.1500, 0.6000, 0.3000, 0.1500, 0.4500, 0.8500, 0.6000,\n",
      "           0.9000, 0.8500, 0.0000, 0.1500, 0.0000, 0.6961, 1.0000, 0.7000,\n",
      "           0.6000, 0.3000, 0.3000, 0.0000, 0.0000, 0.6000, 0.1500, 0.1500,\n",
      "           0.1500, 0.1500, 0.0000, 0.4500],\n",
      "          [0.3000, 1.0000, 0.3000, 0.4500, 0.4500, 0.1500, 0.1500, 0.3000,\n",
      "           0.0000, 0.0000, 0.0000, 0.4216, 0.8500, 0.7000, 1.0000, 0.6039,\n",
      "           0.3000, 0.3000, 0.9000, 0.0000, 0.6000, 0.6000, 0.1500, 0.9000,\n",
      "           0.0000, 0.0000, 0.0000, 0.6000],\n",
      "          [0.1500, 0.3000, 0.3000, 0.0000, 0.0000, 0.0000, 0.0000, 0.0000,\n",
      "           0.1500, 0.3000, 0.6000, 1.0000, 0.8500, 0.7000, 1.0000, 1.0000,\n",
      "           0.1500, 0.1500, 0.9000, 0.3000, 0.0000, 0.6000, 0.0000, 0.7500,\n",
      "           0.7500, 0.6000, 0.3000, 0.4500],\n",
      "          [0.0000, 0.1500, 0.0000, 0.3000, 0.1500, 0.6000, 0.8500, 0.6000,\n",
      "           0.1500, 0.3000, 0.5392, 0.7000, 1.0000, 0.6961, 0.5039, 0.3000,\n",
      "           0.3000, 0.0000, 0.7500, 0.6000, 0.0000, 0.3000, 0.9000, 0.3000,\n",
      "           0.4500, 0.1500, 0.1500, 0.0000],\n",
      "          [0.0000, 0.3000, 0.0000, 0.8500, 0.1500, 0.6000, 0.0000, 0.4500,\n",
      "           0.0000, 0.3000, 0.4745, 1.0000, 0.6961, 0.7000, 0.0000, 0.0000,\n",
      "           0.1500, 0.0000, 0.0000, 0.4500, 0.9000, 0.4500, 0.3000, 0.1500,\n",
      "           0.8500, 0.8500, 0.0000, 0.0000],\n",
      "          [0.0000, 0.0000, 0.0000, 0.3000, 0.0000, 0.4500, 0.6000, 0.7500,\n",
      "           0.1500, 0.7500, 0.4745, 0.5500, 0.0000, 0.0000, 0.1500, 0.6000,\n",
      "           0.6000, 0.4500, 0.0000, 0.3000, 0.0000, 0.1500, 0.4500, 0.4500,\n",
      "           0.6000, 1.0000, 0.0000, 0.0000],\n",
      "          [0.6000, 0.3000, 0.3000, 0.3000, 0.3000, 0.1500, 0.1500, 0.3000,\n",
      "           0.6000, 0.0000, 0.1500, 0.0000, 0.9000, 0.8500, 0.3000, 0.7500,\n",
      "           0.0000, 0.1500, 0.0000, 0.6000, 0.4500, 1.0000, 0.4500, 0.0000,\n",
      "           0.0000, 0.9000, 0.0000, 0.3000]]]])\n",
      "Class\t\tOrig\tAdv\n",
      "Class 0:\t0.00\t0.00\n",
      "Class 1:\t0.00\t0.00\n",
      "Class 2:\t0.00\t0.00\n",
      "Class 3:\t0.00\t1.00\n",
      "Class 4:\t0.00\t0.00\n",
      "Class 5:\t0.00\t0.00\n",
      "Class 6:\t0.00\t0.00\n",
      "Class 7:\t1.00\t0.00\n",
      "Class 8:\t0.00\t0.00\n",
      "Class 9:\t0.00\t0.00\n"
     ]
    },
    {
     "data": {
      "image/png": "[encoded data removed]",
      "text/plain": [
       "<Figure size 640x480 with 2 Axes>"
      ]
     },
     "metadata": {},
     "output_type": "display_data"
    }
   ],
   "source": [
    "# try out our attacks\n",
    "original = torch.unsqueeze(test_dataset[0][0], dim=0)\n",
    "\n",
    "adv = pgd(model, original, label=7, k=10, eps=0.15, eps_step=0.05, targeted=False, clip_min=0, clip_max=1.0)\n",
    "\n",
    "show(original, adv, model_to_prob)"
   ]
  }
 ],
 "metadata": {
  "kernelspec": {
   "display_name": "Python 3.10.6 64-bit ('3.10.6')",
   "language": "python",
   "name": "python3"
  },
  "language_info": {
   "codemirror_mode": {
    "name": "ipython",
    "version": 3
   },
   "file_extension": ".py",
   "mimetype": "text/x-python",
   "name": "python",
   "nbconvert_exporter": "python",
   "pygments_lexer": "ipython3",
   "version": "3.10.6"
  },
  "orig_nbformat": 4,
  "vscode": {
   "interpreter": {
    "hash": "eaefe85dffd32627ecc94fd031d18905cfb7d710e8ca7dfac18e01796152a543"
   }
  }
 },
 "nbformat": 4,
 "nbformat_minor": 2
}
